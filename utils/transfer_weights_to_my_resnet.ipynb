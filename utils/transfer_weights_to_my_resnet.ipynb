{
 "cells": [
  {
   "cell_type": "code",
   "execution_count": 1,
   "metadata": {},
   "outputs": [],
   "source": [
    "import sys\n",
    "sys.path.insert(1, '../')\n",
    "import torch\n",
    "import models.resnet"
   ]
  },
  {
   "cell_type": "code",
   "execution_count": 2,
   "metadata": {},
   "outputs": [],
   "source": [
    "state = torch.load('../pretrained_models/resnet110-1d1ed7c2.th')"
   ]
  },
  {
   "cell_type": "code",
   "execution_count": 3,
   "metadata": {},
   "outputs": [],
   "source": [
    "replace_list = [\n",
    "    ('module.conv1','pre_layer.0'),\n",
    "    ('module.bn1',  'pre_layer.1'),\n",
    "    ('module.linear',  'classifier.2'),\n",
    "    ('module.', ''),\n",
    "    ('conv1', 'conv_norm_act_1.0'),\n",
    "    ('conv2', 'conv_norm_act_2.0'),\n",
    "    ('bn1', 'conv_norm_act_1.1'),\n",
    "    ('bn2', 'conv_norm_act_2.1'),\n",
    "    ('block1','0'),\n",
    "    ('block2','1'),\n",
    "    ('block3','2'),\n",
    "]\n",
    "\n",
    "def to_new_key(key):\n",
    "    for o,n in replace_list:\n",
    "        key = key.replace(o,n)\n",
    "    return key"
   ]
  },
  {
   "cell_type": "code",
   "execution_count": 4,
   "metadata": {},
   "outputs": [],
   "source": [
    "model = models.resnet.resnet110()"
   ]
  },
  {
   "cell_type": "code",
   "execution_count": 5,
   "metadata": {},
   "outputs": [],
   "source": [
    "from collections import OrderedDict\n",
    "converted_state = OrderedDict({to_new_key(k):v for k,v in state['state_dict'].items()})"
   ]
  },
  {
   "cell_type": "code",
   "execution_count": 6,
   "metadata": {},
   "outputs": [
    {
     "data": {
      "text/plain": [
       "<All keys matched successfully>"
      ]
     },
     "execution_count": 6,
     "metadata": {},
     "output_type": "execute_result"
    }
   ],
   "source": [
    "model.load_state_dict(converted_state) "
   ]
  },
  {
   "cell_type": "code",
   "execution_count": 8,
   "metadata": {},
   "outputs": [
    {
     "name": "stdout",
     "output_type": "stream",
     "text": [
      "Files already downloaded and verified\n"
     ]
    },
    {
     "data": {
      "text/plain": [
       "0.93680114"
      ]
     },
     "execution_count": 8,
     "metadata": {},
     "output_type": "execute_result"
    }
   ],
   "source": [
    "import numpy as np\n",
    "from helpers.loss_accuracy import accuracy\n",
    "from helpers.data import get_dataloaders\n",
    "model = model.cuda().eval()\n",
    "np.mean([accuracy(model(x.cuda()).cpu(), y) for x,y in get_dataloaders('cifar10', 32)[1]])"
   ]
  }
 ],
 "metadata": {
  "kernelspec": {
   "display_name": "Python 3",
   "language": "python",
   "name": "python3"
  },
  "language_info": {
   "codemirror_mode": {
    "name": "ipython",
    "version": 3
   },
   "file_extension": ".py",
   "mimetype": "text/x-python",
   "name": "python",
   "nbconvert_exporter": "python",
   "pygments_lexer": "ipython3",
   "version": "3.6.8"
  }
 },
 "nbformat": 4,
 "nbformat_minor": 4
}

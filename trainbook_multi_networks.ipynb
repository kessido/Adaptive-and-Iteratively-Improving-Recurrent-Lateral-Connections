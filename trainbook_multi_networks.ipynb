{
 "cells": [
  {
   "cell_type": "code",
   "execution_count": 35,
   "metadata": {},
   "outputs": [],
   "source": [
    "from helpers.data import get_dataloaders\n",
    "from helpers.train import TrainingManager\n",
    "from helpers.loss_accuracy import accuracy\n",
    "import torch.optim as optim\n",
    "import torch.nn as nn\n",
    "import torch.nn.functional as F\n",
    "import torch\n",
    "from torch.nn import CrossEntropyLoss\n",
    "import models.resnet\n",
    "import random"
   ]
  },
  {
   "cell_type": "code",
   "execution_count": 36,
   "metadata": {},
   "outputs": [],
   "source": [
    "# parser = argparse.ArgumentParser()\n",
    "# parser.add_argument('-in_c', type=int, required=True)\n",
    "# parser.add_argument('-r', type=int, required=True, nargs=3)\n",
    "# parser.add_argument('-b', type=int, required=True, nargs=3)\n",
    "# parser.add_argument('-c', type=int, required=True, nargs=3)\n",
    "# parser.add_argument('-bs', type=int, required=True)\n",
    "# parser.add_argument('-lr', type=float, required=True)\n",
    "# parser.add_argument('--trial', dest='is_trial', action='store_true')\n",
    "# parser.add_argument('--load', dest='load', action='store_true')\n",
    "# parser.set_defaults(is_trial=False, load=False)\n",
    "# args = parser.parse_args()\n",
    "# in_planes_parameter = args.in_c\n",
    "# repeats_parameter = args.r\n",
    "# num_blocks_parameters = args.b\n",
    "# num_channels_parameters = args.c\n",
    "# is_trial = args.is_trial\n",
    "# load = args.load\n",
    "# lr = args.lr\n",
    "# bs = args.bs"
   ]
  },
  {
   "cell_type": "code",
   "execution_count": 37,
   "metadata": {},
   "outputs": [
    {
     "name": "stdout",
     "output_type": "stream",
     "text": [
      "Files already downloaded and verified\n"
     ]
    }
   ],
   "source": [
    "trainloader, testloader = get_dataloaders('cifar10', 8)\n",
    "device = torch.device('cuda')"
   ]
  },
  {
   "cell_type": "code",
   "execution_count": 57,
   "metadata": {},
   "outputs": [],
   "source": [
    "my_models = [\n",
    "    models.resnet.resnet110() for i in range(3)\n",
    "]\n",
    "for model in my_models[:-1]:\n",
    "    model.load_state_dict(torch.load('pretrained_models/resnet110-1d1ed7c2_new.th'))"
   ]
  },
  {
   "cell_type": "code",
   "execution_count": 58,
   "metadata": {},
   "outputs": [],
   "source": [
    "class MyModel(nn.Module):\n",
    "    def __init__(self, my_models, repeats):\n",
    "        super(MyModel, self).__init__()\n",
    "        self.repeats = repeats\n",
    "        self.start_weights = nn.Parameter(torch.zeros(1, len(my_models)))\n",
    "        self.models = nn.ModuleList(my_models)\n",
    "        self.feature_calculator = nn.Sequential(\n",
    "            nn.AdaptiveAvgPool2d((3,3)), nn.Flatten(), \n",
    "            nn.Linear(3*3*64, 16), nn.ReLU(inplace=True))\n",
    "        self.weights_calculator = nn.Sequential(\n",
    "            nn.Linear(16*len(my_models), len(my_models)))\n",
    "        self.softmax = nn.Softmax(dim=1)\n",
    "    \n",
    "    def combine(self, current_weights, outputs):\n",
    "        return sum([\n",
    "            outputs[i] * current_weights[:, i].reshape(-1, *([1] * (len(outputs[i].shape) - 1)))\n",
    "            for i in range(len(outputs))\n",
    "        ])\n",
    "    \n",
    "    def forward(self, x):\n",
    "        repeats = self.repeats if random.uniform(0,1) < .5 else random.randint(1, 2 * self.repeats)\n",
    "        current_weights = self.softmax(self.start_weights.expand(x.shape[0], -1))\n",
    "        for i in range(repeats):\n",
    "            x_ = x\n",
    "            x_ = self.combine(current_weights, [model.pre_layer(x_) for model in self.models])\n",
    "            x_ = self.combine(current_weights, [model.layer1(x_) for model in self.models])\n",
    "            x_ = self.combine(current_weights, [model.layer2(x_) for model in self.models])\n",
    "            last_x_ = [model.layer3(x_) for model in self.models]\n",
    "            x_ = self.combine(current_weights, last_x_)\n",
    "            res = self.combine(current_weights, [model.classifier(x_) for model in self.models])\n",
    "            features = torch.cat([self.feature_calculator(x3) for x3 in last_x_], dim=1)\n",
    "            current_weights = self.softmax(self.weights_calculator(features))\n",
    "        \n",
    "        return res"
   ]
  },
  {
   "cell_type": "code",
   "execution_count": 60,
   "metadata": {},
   "outputs": [],
   "source": [
    "model = MyModel(my_models, 2)\n",
    "model = model.to(device)\n",
    "optimizer = optim.SGD(model.parameters(), lr=1e-5, \n",
    "                      momentum=0.9, nesterov=True)\n",
    "lr_scheduler =optim.lr_scheduler.CyclicLR(optimizer, 1e-9, 1e-5)"
   ]
  },
  {
   "cell_type": "code",
   "execution_count": 61,
   "metadata": {},
   "outputs": [],
   "source": [
    "trial_name = f\"resnet110_multiple_networks_feedback\""
   ]
  },
  {
   "cell_type": "code",
   "execution_count": 62,
   "metadata": {},
   "outputs": [],
   "source": [
    "tm = TrainingManager(trial_name, load=False, is_trial=False)"
   ]
  },
  {
   "cell_type": "code",
   "execution_count": 63,
   "metadata": {},
   "outputs": [
    {
     "name": "stderr",
     "output_type": "stream",
     "text": [
      "  0%|          | 0/10000 [00:00<?, ?it/s]"
     ]
    },
    {
     "name": "stdout",
     "output_type": "stream",
     "text": [
      "Start training trial: \u001b[34mresnet110_multiple_networks_feedback\u001b[0m \u001b[31mis_trial\u001b[0m\n"
     ]
    },
    {
     "name": "stderr",
     "output_type": "stream",
     "text": [
      "{tr_loss: 3.40320, tr_acc: 0.18939, te_loss: 792.56018, te_acc: 0.19697}:   2%|▏         | 170/10000 [01:19<1:16:57,  2.13it/s] \n"
     ]
    },
    {
     "ename": "KeyboardInterrupt",
     "evalue": "",
     "output_type": "error",
     "traceback": [
      "\u001b[0;31m---------------------------------------------------------------------------\u001b[0m",
      "\u001b[0;31mKeyboardInterrupt\u001b[0m                         Traceback (most recent call last)",
      "\u001b[0;32m<ipython-input-63-8d9acecec568>\u001b[0m in \u001b[0;36m<module>\u001b[0;34m\u001b[0m\n\u001b[1;32m      2\u001b[0m          \u001b[0mtrainloader\u001b[0m\u001b[0;34m,\u001b[0m \u001b[0mtestloader\u001b[0m\u001b[0;34m,\u001b[0m\u001b[0;34m\u001b[0m\u001b[0;34m\u001b[0m\u001b[0m\n\u001b[1;32m      3\u001b[0m          \u001b[0mCrossEntropyLoss\u001b[0m\u001b[0;34m(\u001b[0m\u001b[0;34m)\u001b[0m\u001b[0;34m,\u001b[0m \u001b[0mCrossEntropyLoss\u001b[0m\u001b[0;34m(\u001b[0m\u001b[0;34m)\u001b[0m\u001b[0;34m,\u001b[0m\u001b[0;34m\u001b[0m\u001b[0;34m\u001b[0m\u001b[0m\n\u001b[0;32m----> 4\u001b[0;31m          accuracy, accuracy, lr_scheduler=lr_scheduler, device=device, no_iterations=10000)\n\u001b[0m",
      "\u001b[0;32m~/feedback-loop/helpers/train.py\u001b[0m in \u001b[0;36mtrain\u001b[0;34m(self, model, optimizer, trainloader, testloader, criterion_train, criterion_test, acc_train, acc_test, lr_scheduler, test_iter_each_x_train_iter, mean_range, save_rate, desc_update_rate, no_iterations, device)\u001b[0m\n\u001b[1;32m     46\u001b[0m                 \u001b[0moptimizer\u001b[0m\u001b[0;34m.\u001b[0m\u001b[0mzero_grad\u001b[0m\u001b[0;34m(\u001b[0m\u001b[0;34m)\u001b[0m\u001b[0;34m\u001b[0m\u001b[0;34m\u001b[0m\u001b[0m\n\u001b[1;32m     47\u001b[0m                 \u001b[0mtr_loss\u001b[0m\u001b[0;34m,\u001b[0m \u001b[0mtr_acc\u001b[0m \u001b[0;34m=\u001b[0m \u001b[0mself\u001b[0m\u001b[0;34m.\u001b[0m\u001b[0m_iteration\u001b[0m\u001b[0;34m(\u001b[0m\u001b[0mmodel\u001b[0m\u001b[0;34m,\u001b[0m \u001b[0mcriterion_train\u001b[0m\u001b[0;34m,\u001b[0m \u001b[0macc_train\u001b[0m\u001b[0;34m,\u001b[0m \u001b[0;34m*\u001b[0m\u001b[0mget_next\u001b[0m\u001b[0;34m(\u001b[0m\u001b[0mtrainiter\u001b[0m\u001b[0;34m)\u001b[0m\u001b[0;34m)\u001b[0m\u001b[0;34m\u001b[0m\u001b[0;34m\u001b[0m\u001b[0m\n\u001b[0;32m---> 48\u001b[0;31m                 \u001b[0mtr_loss\u001b[0m\u001b[0;34m.\u001b[0m\u001b[0mbackward\u001b[0m\u001b[0;34m(\u001b[0m\u001b[0;34m)\u001b[0m\u001b[0;34m\u001b[0m\u001b[0;34m\u001b[0m\u001b[0m\n\u001b[0m\u001b[1;32m     49\u001b[0m                 \u001b[0moptimizer\u001b[0m\u001b[0;34m.\u001b[0m\u001b[0mstep\u001b[0m\u001b[0;34m(\u001b[0m\u001b[0;34m)\u001b[0m\u001b[0;34m\u001b[0m\u001b[0;34m\u001b[0m\u001b[0m\n\u001b[1;32m     50\u001b[0m                 \u001b[0;32mif\u001b[0m \u001b[0mlr_scheduler\u001b[0m \u001b[0;32mis\u001b[0m \u001b[0;32mnot\u001b[0m \u001b[0;32mNone\u001b[0m\u001b[0;34m:\u001b[0m\u001b[0;34m\u001b[0m\u001b[0;34m\u001b[0m\u001b[0m\n",
      "\u001b[0;32m~/dl-env/lib/python3.6/site-packages/torch/tensor.py\u001b[0m in \u001b[0;36mbackward\u001b[0;34m(self, gradient, retain_graph, create_graph)\u001b[0m\n\u001b[1;32m    164\u001b[0m                 \u001b[0mproducts\u001b[0m\u001b[0;34m.\u001b[0m \u001b[0mDefaults\u001b[0m \u001b[0mto\u001b[0m\u001b[0;31m \u001b[0m\u001b[0;31m`\u001b[0m\u001b[0;31m`\u001b[0m\u001b[0;32mFalse\u001b[0m\u001b[0;31m`\u001b[0m\u001b[0;31m`\u001b[0m\u001b[0;34m.\u001b[0m\u001b[0;34m\u001b[0m\u001b[0;34m\u001b[0m\u001b[0m\n\u001b[1;32m    165\u001b[0m         \"\"\"\n\u001b[0;32m--> 166\u001b[0;31m         \u001b[0mtorch\u001b[0m\u001b[0;34m.\u001b[0m\u001b[0mautograd\u001b[0m\u001b[0;34m.\u001b[0m\u001b[0mbackward\u001b[0m\u001b[0;34m(\u001b[0m\u001b[0mself\u001b[0m\u001b[0;34m,\u001b[0m \u001b[0mgradient\u001b[0m\u001b[0;34m,\u001b[0m \u001b[0mretain_graph\u001b[0m\u001b[0;34m,\u001b[0m \u001b[0mcreate_graph\u001b[0m\u001b[0;34m)\u001b[0m\u001b[0;34m\u001b[0m\u001b[0;34m\u001b[0m\u001b[0m\n\u001b[0m\u001b[1;32m    167\u001b[0m \u001b[0;34m\u001b[0m\u001b[0m\n\u001b[1;32m    168\u001b[0m     \u001b[0;32mdef\u001b[0m \u001b[0mregister_hook\u001b[0m\u001b[0;34m(\u001b[0m\u001b[0mself\u001b[0m\u001b[0;34m,\u001b[0m \u001b[0mhook\u001b[0m\u001b[0;34m)\u001b[0m\u001b[0;34m:\u001b[0m\u001b[0;34m\u001b[0m\u001b[0;34m\u001b[0m\u001b[0m\n",
      "\u001b[0;32m~/dl-env/lib/python3.6/site-packages/torch/autograd/__init__.py\u001b[0m in \u001b[0;36mbackward\u001b[0;34m(tensors, grad_tensors, retain_graph, create_graph, grad_variables)\u001b[0m\n\u001b[1;32m     97\u001b[0m     Variable._execution_engine.run_backward(\n\u001b[1;32m     98\u001b[0m         \u001b[0mtensors\u001b[0m\u001b[0;34m,\u001b[0m \u001b[0mgrad_tensors\u001b[0m\u001b[0;34m,\u001b[0m \u001b[0mretain_graph\u001b[0m\u001b[0;34m,\u001b[0m \u001b[0mcreate_graph\u001b[0m\u001b[0;34m,\u001b[0m\u001b[0;34m\u001b[0m\u001b[0;34m\u001b[0m\u001b[0m\n\u001b[0;32m---> 99\u001b[0;31m         allow_unreachable=True)  # allow_unreachable flag\n\u001b[0m\u001b[1;32m    100\u001b[0m \u001b[0;34m\u001b[0m\u001b[0m\n\u001b[1;32m    101\u001b[0m \u001b[0;34m\u001b[0m\u001b[0m\n",
      "\u001b[0;31mKeyboardInterrupt\u001b[0m: "
     ]
    }
   ],
   "source": [
    "tm.train(model, optimizer,\n",
    "         trainloader, testloader,\n",
    "         CrossEntropyLoss(), CrossEntropyLoss(),\n",
    "         accuracy, accuracy, lr_scheduler=lr_scheduler, device=device, no_iterations=10000)"
   ]
  }
 ],
 "metadata": {
  "kernelspec": {
   "display_name": "Python 3",
   "language": "python",
   "name": "python3"
  },
  "language_info": {
   "codemirror_mode": {
    "name": "ipython",
    "version": 3
   },
   "file_extension": ".py",
   "mimetype": "text/x-python",
   "name": "python",
   "nbconvert_exporter": "python",
   "pygments_lexer": "ipython3",
   "version": "3.6.8"
  }
 },
 "nbformat": 4,
 "nbformat_minor": 4
}
